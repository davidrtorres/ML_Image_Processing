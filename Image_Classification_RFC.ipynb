{
  "nbformat": 4,
  "nbformat_minor": 0,
  "metadata": {
    "colab": {
      "name": "Image Classification/RFC.ipynb",
      "provenance": [],
      "collapsed_sections": [],
      "mount_file_id": "1HnMSSNRF20BdcXExbkXBezcSCmNNo47O",
      "authorship_tag": "ABX9TyNwZBSBHM6ugcr0c1uLGWpP",
      "include_colab_link": true
    },
    "kernelspec": {
      "name": "python3",
      "display_name": "Python 3"
    },
    "language_info": {
      "name": "python"
    }
  },
  "cells": [
    {
      "cell_type": "markdown",
      "metadata": {
        "id": "view-in-github",
        "colab_type": "text"
      },
      "source": [
        "<a href=\"https://colab.research.google.com/github/davidrtorres/ML_Image_Processing/blob/main/Image_Classification_RFC.ipynb\" target=\"_parent\"><img src=\"https://colab.research.google.com/assets/colab-badge.svg\" alt=\"Open In Colab\"/></a>"
      ]
    },
    {
      "cell_type": "markdown",
      "source": [
        "### Using Machine Learning for Image Classification in Python\n",
        "In this notebook I'm going to build a Machine Learning model for image classification.  This is a binary classification problem.  I going to build models to predict whether an image is of a car or airplane.<br>\n",
        "What is the difference between image segmentation and image classification?  By segmentation I am referring to semantic segmentation.  Image segmentation refers to every pixel classification.  Image classification refers to the entire picture classified as something, i.e. is this an image of an infected or non-infected cell.  Here we're not dealing with pixel level information.  We're dealing with whole image level information, i.e., is this an airplane or a car.  The entire image is classifed into one or the categories.  \n",
        "\n",
        "I followed the Youtube Series https://www.youtube.com/watch?v=nK-2k_ENgEc&list=PLHae9ggVvqPgyRQQOtENr6hK0m1UquGaG&index=85 in prepaing this notebook."
      ],
      "metadata": {
        "id": "n6rl3BBIullY"
      }
    },
    {
      "cell_type": "code",
      "source": [
        "import matplotlib.pyplot as plt\n",
        "%matplotlib inline\n",
        "import pandas as pd\n",
        "import numpy as np\n",
        "import seaborn as sns\n",
        "import glob\n",
        "import cv2\n",
        "import os"
      ],
      "metadata": {
        "id": "N_1Tsq18BRRM"
      },
      "execution_count": 1,
      "outputs": []
    },
    {
      "cell_type": "markdown",
      "source": [
        "### Put Image Folders into Train, Validation and Test Sets\n",
        "The image folder consists of 2 subfolders for airplanes and cars.  The task for this section was how to take the subfolders and split then into train, validation and test sets.  I need train and validation sets so that labels can be created. "
      ],
      "metadata": {
        "id": "a4k4_-3RmLPD"
      }
    },
    {
      "cell_type": "code",
      "source": [
        "!pip install split-folders "
      ],
      "metadata": {
        "colab": {
          "base_uri": "https://localhost:8080/"
        },
        "id": "pUAFHEHZ1cpc",
        "outputId": "681dc854-3e82-444c-a9b6-17312179f484"
      },
      "execution_count": 2,
      "outputs": [
        {
          "output_type": "stream",
          "name": "stdout",
          "text": [
            "Looking in indexes: https://pypi.org/simple, https://us-python.pkg.dev/colab-wheels/public/simple/\n",
            "Requirement already satisfied: split-folders in /usr/local/lib/python3.7/dist-packages (0.5.1)\n"
          ]
        }
      ]
    },
    {
      "cell_type": "code",
      "source": [
        "import splitfolders"
      ],
      "metadata": {
        "id": "K_jUjmB61Vqs"
      },
      "execution_count": 3,
      "outputs": []
    },
    {
      "cell_type": "markdown",
      "source": [
        "The train set is used to train the model and to update the weights.  The validation data is used as part of the training but only to validate after each iteration.  Test data is never used as part of the training process.\n",
        "\n",
        "https://www.youtube.com/watch?v=C6wbr1jJvVs"
      ],
      "metadata": {
        "id": "nny_oyGx-BOp"
      }
    },
    {
      "cell_type": "code",
      "execution_count": 4,
      "metadata": {
        "id": "UfE-BatDt-ff"
      },
      "outputs": [],
      "source": [
        "# input_folder = '/content/drive/MyDrive/datasets/air_car3/'\n",
        "# # #testing, (20)validation, (test)testing\n",
        "# splitfolders.ratio(input_folder, output='/content/drive/MyDrive/datasets/air_car4_folder/',seed=42, ratio=(.7,.3,.0),group_prefix=None) #ratio=(.7,.2,.1)"
      ]
    },
    {
      "cell_type": "code",
      "source": [
        "print(os.listdir('/content/drive/MyDrive/datasets/air_car4_folder/'))"
      ],
      "metadata": {
        "colab": {
          "base_uri": "https://localhost:8080/"
        },
        "id": "IVLlSnd7EmYK",
        "outputId": "0a07da72-6f4f-4d5b-925d-d172e9885855"
      },
      "execution_count": 5,
      "outputs": [
        {
          "output_type": "stream",
          "name": "stdout",
          "text": [
            "['train', 'val', 'test']\n"
          ]
        }
      ]
    },
    {
      "cell_type": "code",
      "source": [
        "# file = '/content/drive/MyDrive/datasets/cell_images_folder/train/'\n",
        "# for f in glob.glob(file + \"/*.JPG\"):\n",
        "#   print(f)"
      ],
      "metadata": {
        "id": "8u2arJqodWq2"
      },
      "execution_count": 6,
      "outputs": []
    },
    {
      "cell_type": "markdown",
      "source": [
        "### Read the Images\n",
        "The for loop iterates through every image in the train folder.  I ran the for loop on the train folder and the directory shows that there are 2 subfolders (airplane and car) in the train folder.  With the function .split() I created a label for each image based on the folder it's in. \n",
        "When you load the images they usually come in different sizes so I resized the images so they're all one size for processing purposes.  "
      ],
      "metadata": {
        "id": "x_kVbBsHyKNs"
      }
    },
    {
      "cell_type": "code",
      "source": [
        "SIZE = 128\n",
        "train_images = []\n",
        "train_labels=[]\n",
        "\n",
        "for directory_path in glob.glob(\"/content/drive/MyDrive/datasets/air_car4_folder/train/*\"):#\"/content/drive/MyDrive/datasets/air_car2_folder/train/*\"\n",
        "  #create label\n",
        "  label = directory_path.split(\"/\")[-1]\n",
        "  print(label)\n",
        "  #print(directory_path)\n",
        "  for img_path in glob.glob(os.path.join(directory_path, \"*.jpg\")):\n",
        "    #print(img_path)\n",
        "    #read image as color meaning 3 channels\n",
        "    img = cv2.imread(img_path, cv2.IMREAD_COLOR)\n",
        "    #resize images\n",
        "    img = cv2.resize(img, (SIZE,SIZE))\n",
        "    #append images\n",
        "    train_images.append(img)\n",
        "    train_labels.append(label)\n",
        "#convert list to numpy array\n",
        "train_images = np.array(train_images)\n",
        "train_labels  = np.array(train_labels)"
      ],
      "metadata": {
        "colab": {
          "base_uri": "https://localhost:8080/"
        },
        "id": "soxrx2irf77r",
        "outputId": "6cd763e9-c1c3-4278-8b0a-8e0c7b076cf2"
      },
      "execution_count": 7,
      "outputs": [
        {
          "output_type": "stream",
          "name": "stdout",
          "text": [
            "cats\n",
            "car\n",
            "airplane\n"
          ]
        }
      ]
    },
    {
      "cell_type": "code",
      "source": [
        "from google.colab.patches import cv2_imshow"
      ],
      "metadata": {
        "id": "2Dk9g_QUO5We"
      },
      "execution_count": 8,
      "outputs": []
    },
    {
      "cell_type": "code",
      "source": [
        "img = cv2.resize(train_images[3], (300,300))\n",
        "#plt.title('Image of Car')\n",
        "cv2_imshow(img)"
      ],
      "metadata": {
        "colab": {
          "base_uri": "https://localhost:8080/",
          "height": 317
        },
        "id": "lLlN31IOOJHM",
        "outputId": "2b030645-eca0-433b-91b3-11564509bb18"
      },
      "execution_count": 9,
      "outputs": [
        {
          "output_type": "display_data",
          "data": {
            "text/plain": [
              "<PIL.Image.Image image mode=RGB size=300x300 at 0x7F077DB784D0>"
            ],
            "image/png": "[encoded data removed]"
          },
          "metadata": {}
        }
      ]
    },
    {
      "cell_type": "code",
      "source": [
        "train_images"
      ],
      "metadata": {
        "colab": {
          "base_uri": "https://localhost:8080/"
        },
        "id": "hVbfK4iEgoq3",
        "outputId": "272c3291-d779-4d42-def4-661a3c23fb5f"
      },
      "execution_count": 10,
      "outputs": [
        {
          "output_type": "execute_result",
          "data": {
            "text/plain": [
              "array([[[[  1,  24,  18],\n",
              "         [ 14,  43,  36],\n",
              "         [ 20,  44,  37],\n",
              "         ...,\n",
              "         [215, 230, 241],\n",
              "         [215, 230, 242],\n",
              "         [213, 229, 241]],\n",
              "\n",
              "        [[  8,  30,  22],\n",
              "         [ 28,  52,  45],\n",
              "         [ 32,  54,  46],\n",
              "         ...,\n",
              "         [216, 229, 241],\n",
              "         [214, 227, 239],\n",
              "         [210, 224, 236]],\n",
              "\n",
              "        [[ 38,  53,  42],\n",
              "         [ 54,  72,  60],\n",
              "         [ 59,  81,  67],\n",
              "         ...,\n",
              "         [216, 228, 240],\n",
              "         [216, 227, 239],\n",
              "         [213, 225, 237]],\n",
              "\n",
              "        ...,\n",
              "\n",
              "        [[ 70,  86, 111],\n",
              "         [105, 119, 143],\n",
              "         [126, 135, 159],\n",
              "         ...,\n",
              "         [110, 130, 165],\n",
              "         [ 93, 112, 144],\n",
              "         [ 54,  73, 104]],\n",
              "\n",
              "        [[ 58,  77,  99],\n",
              "         [ 69,  85, 108],\n",
              "         [105, 116, 140],\n",
              "         ...,\n",
              "         [ 74,  91, 125],\n",
              "         [ 55,  70, 102],\n",
              "         [ 51,  67,  96]],\n",
              "\n",
              "        [[ 58,  81, 100],\n",
              "         [ 58,  76,  98],\n",
              "         [ 78,  91, 114],\n",
              "         ...,\n",
              "         [ 55,  71, 104],\n",
              "         [ 42,  56,  86],\n",
              "         [ 38,  51,  79]]],\n",
              "\n",
              "\n",
              "       [[[ 99, 118, 125],\n",
              "         [ 98, 117, 124],\n",
              "         [ 99, 118, 125],\n",
              "         ...,\n",
              "         [ 65,  86, 117],\n",
              "         [ 64,  86, 114],\n",
              "         [ 64,  86, 114]],\n",
              "\n",
              "        [[ 98, 117, 124],\n",
              "         [ 99, 118, 125],\n",
              "         [ 98, 117, 125],\n",
              "         ...,\n",
              "         [ 65,  86, 116],\n",
              "         [ 64,  86, 114],\n",
              "         [ 64,  86, 114]],\n",
              "\n",
              "        [[ 98, 117, 124],\n",
              "         [ 99, 118, 125],\n",
              "         [ 99, 118, 125],\n",
              "         ...,\n",
              "         [ 63,  87, 112],\n",
              "         [ 62,  84, 112],\n",
              "         [ 65,  87, 115]],\n",
              "\n",
              "        ...,\n",
              "\n",
              "        [[187, 206, 213],\n",
              "         [189, 208, 215],\n",
              "         [183, 202, 209],\n",
              "         ...,\n",
              "         [ 88,  94, 103],\n",
              "         [ 76,  84,  93],\n",
              "         [118, 125, 134]],\n",
              "\n",
              "        [[179, 198, 205],\n",
              "         [187, 206, 213],\n",
              "         [183, 201, 209],\n",
              "         ...,\n",
              "         [ 82,  92, 101],\n",
              "         [ 73,  80,  89],\n",
              "         [115, 122, 130]],\n",
              "\n",
              "        [[169, 187, 194],\n",
              "         [183, 202, 209],\n",
              "         [199, 218, 225],\n",
              "         ...,\n",
              "         [ 64,  80,  87],\n",
              "         [ 70,  87,  94],\n",
              "         [104, 120, 127]]],\n",
              "\n",
              "\n",
              "       [[[ 67,  40,  30],\n",
              "         [ 62,  34,  25],\n",
              "         [ 72,  39,  29],\n",
              "         ...,\n",
              "         [201, 199, 198],\n",
              "         [220, 219, 215],\n",
              "         [249, 248, 244]],\n",
              "\n",
              "        [[ 57,  32,  20],\n",
              "         [ 61,  32,  21],\n",
              "         [ 81,  43,  33],\n",
              "         ...,\n",
              "         [206, 204, 203],\n",
              "         [245, 244, 240],\n",
              "         [254, 253, 249]],\n",
              "\n",
              "        [[ 55,  30,  18],\n",
              "         [ 70,  38,  25],\n",
              "         [ 97,  57,  43],\n",
              "         ...,\n",
              "         [227, 225, 224],\n",
              "         [251, 250, 246],\n",
              "         [253, 252, 248]],\n",
              "\n",
              "        ...,\n",
              "\n",
              "        [[233, 231, 234],\n",
              "         [224, 223, 226],\n",
              "         [220, 221, 226],\n",
              "         ...,\n",
              "         [ 22,  64, 106],\n",
              "         [ 21,  64, 106],\n",
              "         [ 22,  64, 106]],\n",
              "\n",
              "        [[232, 226, 226],\n",
              "         [231, 227, 227],\n",
              "         [234, 231, 232],\n",
              "         ...,\n",
              "         [ 20,  62, 104],\n",
              "         [ 20,  62, 104],\n",
              "         [ 22,  64, 105]],\n",
              "\n",
              "        [[224, 216, 212],\n",
              "         [225, 217, 214],\n",
              "         [228, 220, 219],\n",
              "         ...,\n",
              "         [ 19,  61, 103],\n",
              "         [ 20,  62, 104],\n",
              "         [ 20,  62, 104]]],\n",
              "\n",
              "\n",
              "       ...,\n",
              "\n",
              "\n",
              "       [[[137, 137, 119],\n",
              "         [138, 138, 120],\n",
              "         [149, 149, 132],\n",
              "         ...,\n",
              "         [169, 166, 138],\n",
              "         [170, 167, 139],\n",
              "         [172, 168, 143]],\n",
              "\n",
              "        [[140, 140, 122],\n",
              "         [137, 137, 119],\n",
              "         [146, 146, 129],\n",
              "         ...,\n",
              "         [168, 164, 137],\n",
              "         [169, 166, 138],\n",
              "         [171, 167, 142]],\n",
              "\n",
              "        [[145, 145, 127],\n",
              "         [137, 137, 119],\n",
              "         [140, 140, 124],\n",
              "         ...,\n",
              "         [166, 163, 135],\n",
              "         [168, 165, 137],\n",
              "         [170, 166, 141]],\n",
              "\n",
              "        ...,\n",
              "\n",
              "        [[ 25,  71, 110],\n",
              "         [ 34,  78, 115],\n",
              "         [ 33,  74, 109],\n",
              "         ...,\n",
              "         [  1,  37,  59],\n",
              "         [  0,  36,  58],\n",
              "         [  1,  37,  57]],\n",
              "\n",
              "        [[ 10,  54,  90],\n",
              "         [ 13,  56,  90],\n",
              "         [ 14,  53,  85],\n",
              "         ...,\n",
              "         [  4,  37,  58],\n",
              "         [  4,  37,  57],\n",
              "         [  5,  39,  58]],\n",
              "\n",
              "        [[  0,  42,  77],\n",
              "         [  0,  41,  74],\n",
              "         [  2,  39,  69],\n",
              "         ...,\n",
              "         [  6,  37,  58],\n",
              "         [  6,  38,  57],\n",
              "         [  8,  40,  59]]],\n",
              "\n",
              "\n",
              "       [[[252, 252, 252],\n",
              "         [254, 252, 251],\n",
              "         [255, 253, 252],\n",
              "         ...,\n",
              "         [249, 249, 249],\n",
              "         [252, 252, 252],\n",
              "         [252, 252, 252]],\n",
              "\n",
              "        [[252, 252, 252],\n",
              "         [254, 252, 251],\n",
              "         [254, 252, 251],\n",
              "         ...,\n",
              "         [246, 246, 246],\n",
              "         [252, 252, 252],\n",
              "         [253, 253, 253]],\n",
              "\n",
              "        [[252, 252, 252],\n",
              "         [254, 252, 251],\n",
              "         [254, 252, 251],\n",
              "         ...,\n",
              "         [243, 243, 243],\n",
              "         [252, 252, 252],\n",
              "         [254, 254, 254]],\n",
              "\n",
              "        ...,\n",
              "\n",
              "        [[247, 248, 244],\n",
              "         [251, 250, 246],\n",
              "         [250, 249, 245],\n",
              "         ...,\n",
              "         [238, 247, 246],\n",
              "         [245, 250, 249],\n",
              "         [254, 254, 254]],\n",
              "\n",
              "        [[247, 248, 244],\n",
              "         [251, 250, 246],\n",
              "         [250, 249, 245],\n",
              "         ...,\n",
              "         [240, 248, 247],\n",
              "         [246, 251, 250],\n",
              "         [254, 254, 254]],\n",
              "\n",
              "        [[247, 248, 244],\n",
              "         [251, 250, 246],\n",
              "         [250, 249, 245],\n",
              "         ...,\n",
              "         [241, 249, 248],\n",
              "         [247, 252, 251],\n",
              "         [254, 254, 254]]],\n",
              "\n",
              "\n",
              "       [[[215, 226, 210],\n",
              "         [218, 228, 212],\n",
              "         [216, 224, 209],\n",
              "         ...,\n",
              "         [182, 190, 180],\n",
              "         [183, 191, 181],\n",
              "         [180, 188, 178]],\n",
              "\n",
              "        [[216, 227, 211],\n",
              "         [219, 228, 212],\n",
              "         [217, 223, 209],\n",
              "         ...,\n",
              "         [183, 191, 181],\n",
              "         [184, 192, 182],\n",
              "         [182, 190, 180]],\n",
              "\n",
              "        [[216, 227, 211],\n",
              "         [219, 229, 213],\n",
              "         [217, 224, 209],\n",
              "         ...,\n",
              "         [185, 192, 183],\n",
              "         [185, 193, 183],\n",
              "         [185, 193, 183]],\n",
              "\n",
              "        ...,\n",
              "\n",
              "        [[ 44, 106,  88],\n",
              "         [ 47, 103,  86],\n",
              "         [ 38, 102,  86],\n",
              "         ...,\n",
              "         [  1,  69,  53],\n",
              "         [  0,  60,  45],\n",
              "         [  1,  65,  49]],\n",
              "\n",
              "        [[ 49, 110,  94],\n",
              "         [ 54, 108,  93],\n",
              "         [ 46, 106,  91],\n",
              "         ...,\n",
              "         [ 14,  83,  69],\n",
              "         [ 12,  76,  62],\n",
              "         [  3,  68,  52]],\n",
              "\n",
              "        [[ 53, 113,  98],\n",
              "         [ 58, 112,  98],\n",
              "         [ 51, 108,  95],\n",
              "         ...,\n",
              "         [ 24,  94,  81],\n",
              "         [ 21,  87,  75],\n",
              "         [  4,  69,  54]]]], dtype=uint8)"
            ]
          },
          "metadata": {},
          "execution_count": 10
        }
      ]
    },
    {
      "cell_type": "code",
      "source": [
        "train_labels"
      ],
      "metadata": {
        "colab": {
          "base_uri": "https://localhost:8080/"
        },
        "id": "Xpbs-qe_1Koj",
        "outputId": "94703fda-935a-4d2f-9d05-89dc8d3ecfdc"
      },
      "execution_count": 11,
      "outputs": [
        {
          "output_type": "execute_result",
          "data": {
            "text/plain": [
              "array(['cats', 'cats', 'cats', 'cats', 'cats', 'cats', 'cats', 'cats',\n",
              "       'cats', 'cats', 'cats', 'cats', 'cats', 'cats', 'car', 'car',\n",
              "       'car', 'car', 'car', 'car', 'car', 'car', 'car', 'car', 'car',\n",
              "       'car', 'car', 'car', 'car', 'car', 'car', 'airplane', 'airplane',\n",
              "       'airplane', 'airplane', 'airplane', 'airplane', 'airplane',\n",
              "       'airplane', 'airplane', 'airplane', 'airplane', 'airplane',\n",
              "       'airplane', 'airplane', 'airplane', 'airplane', 'airplane'],\n",
              "      dtype='<U8')"
            ]
          },
          "metadata": {},
          "execution_count": 11
        }
      ]
    },
    {
      "cell_type": "code",
      "source": [
        "print(train_images.shape)\n",
        "print(train_labels.shape)"
      ],
      "metadata": {
        "colab": {
          "base_uri": "https://localhost:8080/"
        },
        "id": "cuQc-sZwAlKM",
        "outputId": "c60a53f9-563b-49d8-ef66-c4fc8791bad7"
      },
      "execution_count": 12,
      "outputs": [
        {
          "output_type": "stream",
          "name": "stdout",
          "text": [
            "(48, 128, 128, 3)\n",
            "(48,)\n"
          ]
        }
      ]
    },
    {
      "cell_type": "code",
      "source": [
        "test_images = []\n",
        "test_labels=[]\n",
        "\n",
        "for directory_path in glob.glob(\"/content/drive/MyDrive/datasets/air_car4_folder/val/*\"):#/content/drive/MyDrive/datasets/air_car2_folder/val/*\n",
        "  flower_label = directory_path.split(\"/\")[-1]\n",
        "  print(flower_label)\n",
        "  #print(directory_path)\n",
        "  for img_path in glob.glob(os.path.join(directory_path, \"*.jpg\")):\n",
        "    #print(img_path)\n",
        "    img = cv2.imread(img_path, cv2.IMREAD_COLOR)\n",
        "    img = cv2.resize(img, (SIZE,SIZE))\n",
        "\n",
        "    test_images.append(img)\n",
        "    test_labels.append(flower_label)\n",
        "\n",
        "test_images = np.array(test_images)\n",
        "test_labels  = np.array(test_labels)"
      ],
      "metadata": {
        "colab": {
          "base_uri": "https://localhost:8080/"
        },
        "id": "yXyf8i87AlCf",
        "outputId": "d54dd29f-91c9-4529-a38f-0495ca0bc99d"
      },
      "execution_count": 13,
      "outputs": [
        {
          "output_type": "stream",
          "name": "stdout",
          "text": [
            "cats\n",
            "car\n",
            "airplane\n"
          ]
        }
      ]
    },
    {
      "cell_type": "code",
      "source": [
        "print(test_images.shape)\n",
        "print(test_labels.shape)"
      ],
      "metadata": {
        "colab": {
          "base_uri": "https://localhost:8080/"
        },
        "id": "IdlxFq_mAk4P",
        "outputId": "ca4dd669-30de-4c83-c865-d92dc2e24d4e"
      },
      "execution_count": 14,
      "outputs": [
        {
          "output_type": "stream",
          "name": "stdout",
          "text": [
            "(20, 128, 128, 3)\n",
            "(20,)\n"
          ]
        }
      ]
    },
    {
      "cell_type": "code",
      "source": [
        "test_labels"
      ],
      "metadata": {
        "colab": {
          "base_uri": "https://localhost:8080/"
        },
        "id": "vDAgOocUGgIe",
        "outputId": "b7e8660b-d492-468c-97b8-bd0e2a14fa7f"
      },
      "execution_count": 15,
      "outputs": [
        {
          "output_type": "execute_result",
          "data": {
            "text/plain": [
              "array(['cats', 'cats', 'cats', 'cats', 'cats', 'cats', 'car', 'car',\n",
              "       'car', 'car', 'car', 'car', 'car', 'airplane', 'airplane',\n",
              "       'airplane', 'airplane', 'airplane', 'airplane', 'airplane'],\n",
              "      dtype='<U8')"
            ]
          },
          "metadata": {},
          "execution_count": 15
        }
      ]
    },
    {
      "cell_type": "markdown",
      "source": [
        "### Preprocessing\n",
        "The label has the categories airplane, car and cat which are objects and need to be converted to the numeric types 0,1,2.  For this task I used the label encoder. "
      ],
      "metadata": {
        "id": "s3P5MxuO1hqb"
      }
    },
    {
      "cell_type": "code",
      "source": [
        "from sklearn import preprocessing"
      ],
      "metadata": {
        "id": "DiakTZskITxu"
      },
      "execution_count": 16,
      "outputs": []
    },
    {
      "cell_type": "code",
      "source": [
        "le = preprocessing.LabelEncoder()\n",
        "le.fit(test_labels)\n",
        "test_labels_encoded = le.transform(test_labels)\n",
        "le.fit(train_labels)\n",
        "train_labels_encoded = le.transform(train_labels)"
      ],
      "metadata": {
        "id": "kEm_lC97Ican"
      },
      "execution_count": 17,
      "outputs": []
    },
    {
      "cell_type": "code",
      "source": [
        "train_labels_encoded"
      ],
      "metadata": {
        "colab": {
          "base_uri": "https://localhost:8080/"
        },
        "id": "BZR6-1cYJOcL",
        "outputId": "edb08b2d-9111-4f08-d16e-ca1458b52754"
      },
      "execution_count": 18,
      "outputs": [
        {
          "output_type": "execute_result",
          "data": {
            "text/plain": [
              "array([2, 2, 2, 2, 2, 2, 2, 2, 2, 2, 2, 2, 2, 2, 1, 1, 1, 1, 1, 1, 1, 1,\n",
              "       1, 1, 1, 1, 1, 1, 1, 1, 1, 0, 0, 0, 0, 0, 0, 0, 0, 0, 0, 0, 0, 0,\n",
              "       0, 0, 0, 0])"
            ]
          },
          "metadata": {},
          "execution_count": 18
        }
      ]
    },
    {
      "cell_type": "markdown",
      "source": [
        "### Split the Data"
      ],
      "metadata": {
        "id": "L7uX92YIJWQ-"
      }
    },
    {
      "cell_type": "code",
      "source": [
        "from sklearn.model_selection import train_test_split"
      ],
      "metadata": {
        "id": "6R_BkK6GJQcm"
      },
      "execution_count": 19,
      "outputs": []
    },
    {
      "cell_type": "code",
      "source": [
        "X_train, y_train, X_test,y_test = train_images, train_labels_encoded, test_images, test_labels_encoded"
      ],
      "metadata": {
        "id": "x3kDx7wUJlLG"
      },
      "execution_count": 20,
      "outputs": []
    },
    {
      "cell_type": "markdown",
      "source": [
        "### Normal the Data\n",
        "I normalized the data so all the values would be between 0 and 1."
      ],
      "metadata": {
        "id": "hd1ce31yUFpw"
      }
    },
    {
      "cell_type": "code",
      "source": [
        "X_train, X_test = X_train / 255.0, X_test/255.0"
      ],
      "metadata": {
        "id": "V9HXkBNQ2JvM"
      },
      "execution_count": 21,
      "outputs": []
    },
    {
      "cell_type": "code",
      "source": [
        "print(X_train.shape)\n",
        "print(y_train.shape)\n",
        "print(X_test.shape)\n",
        "print(y_test.shape)"
      ],
      "metadata": {
        "colab": {
          "base_uri": "https://localhost:8080/"
        },
        "id": "j4qLPfdhLMDX",
        "outputId": "4c65d8bf-8f96-4896-8a3c-698e919ad035"
      },
      "execution_count": 22,
      "outputs": [
        {
          "output_type": "stream",
          "name": "stdout",
          "text": [
            "(48, 128, 128, 3)\n",
            "(48,)\n",
            "(20, 128, 128, 3)\n",
            "(20,)\n"
          ]
        }
      ]
    },
    {
      "cell_type": "markdown",
      "source": [
        "### Feature Extraction\n",
        "I'm using Gabor filters for feature extraction.  The function feature_extraction enables me to go through each image and apply filter and operations.  First, I added the pixels values of the images into a dataframe.  \n",
        "Next, I used Gabor filters to extract features. The Gabor filter function generates a kernel. The kernel is then applied to each image and responses/features are generated and extracted from the image.  The responses are then added to the dataframe df which contains the pixel values. We will extract features from the images by applying filters to them.  The dataframe will then be used as input for the machine learning algorithm for training purposes.<br>\n"
      ],
      "metadata": {
        "id": "KqtTeKQal5lQ"
      }
    },
    {
      "cell_type": "code",
      "source": [
        "from skimage.filters import roberts,sobel, scharr, prewitt"
      ],
      "metadata": {
        "id": "vARwtdFPM0Vb"
      },
      "execution_count": 23,
      "outputs": []
    },
    {
      "cell_type": "code",
      "source": [
        "def feature_extractor(dataset):\n",
        "    X_train = dataset\n",
        "    image_dataset = pd.DataFrame()\n",
        "    for image in range(X_train.shape[0]):\n",
        "\n",
        "        df = pd.DataFrame()\n",
        "\n",
        "        input_img = X_train[image,:,:,:]\n",
        "        img = input_img\n",
        "\n",
        "        pixel_values = img.reshape(-1)\n",
        "        df['Pixel_Value'] = pixel_values\n",
        "        #Generate Gabor filters\n",
        "        num=1\n",
        "        kernels = []\n",
        "        for theta in range(2):   #Define number of thetas. Here only 2 theta values 0 and 1/4 . pi \n",
        "            theta = theta / 4. * np.pi\n",
        "            for sigma in (1, 3):  #Sigma with values of 1 and 3\n",
        "                for lamda in np.arange(0, np.pi, np.pi / 4): #lamda =  np.pi /4   #Range of wavelengths\n",
        "                    for gamma in (0.05, 0.5): #gamma = 0.5   #Gamma values of 0.05 and 0.5\n",
        "                           \n",
        "                      gabor_label = 'Gabor' + str(num)  #Label Gabor columns as Gabor1, Gabor2, etc.\n",
        "                      #print(gabor_label)\n",
        "                      #kernal size\n",
        "                      ksize=9\n",
        "                      #generate a Gabor kernal with each parameter \n",
        "                      kernel = cv2.getGaborKernel((ksize, ksize), sigma, theta, lamda, gamma, 0, ktype=cv2.CV_32F)    \n",
        "                      kernels.append(kernel)\n",
        "                      #apply kernal to image/filter the image and add values to a new column\n",
        "                      #when you get kernal apply it to image2\n",
        "                      #the filtered image is 2D \n",
        "                      fimg = cv2.filter2D(img, cv2.CV_8UC3, kernel)\n",
        "                      #reshape filtered image/fimg to 1D\n",
        "                      filtered_img = fimg.reshape(-1)\n",
        "                      #add new column to dataframe\n",
        "                      df[gabor_label] = filtered_img  #Labels columns as Gabor1, Gabor2, etc.\n",
        "                      #print(gabor_label, ': theta=', theta, ': sigma=', sigma, ': lamda=', lamda, ': gamma=', gamma)\n",
        "                      num += 1  #Increment for gabor column label\n",
        "\n",
        "        # edges = cv2.Canny(img, 100,200) #minimum and max value\n",
        "        # edges1 = edges.reshape(-1)\n",
        "        # df['Canny_Edge'] = edges1\n",
        "        # edge_roberts = roberts(img) #minimum and max value\n",
        "        # edge_roberts1 = edge_roberts.reshape(-1)\n",
        "        # df['Roberts'] = edge_roberts1\n",
        "\n",
        "        edge_sobel = sobel(img) #minimum and max value\n",
        "        edge_sobel1 = edge_sobel.reshape(-1)\n",
        "        df['Sobel'] = edge_sobel1\n",
        "\n",
        "        edge_scharr = scharr(img) #minimum and max value\n",
        "        edge_scharr1 = edge_scharr.reshape(-1)\n",
        "        df['Scharr'] = edge_scharr1 \n",
        "\n",
        "        image_dataset = image_dataset.append(df)\n",
        "    return image_dataset\n",
        " "
      ],
      "metadata": {
        "id": "T7XphVQaLZtG"
      },
      "execution_count": 24,
      "outputs": []
    },
    {
      "cell_type": "markdown",
      "source": [
        "With this function I'm going to extract images from the training set."
      ],
      "metadata": {
        "id": "XMjdo7yvaS6L"
      }
    },
    {
      "cell_type": "code",
      "source": [
        "image_features = feature_extractor(X_train)"
      ],
      "metadata": {
        "id": "bO_BPuB4OWbm"
      },
      "execution_count": 25,
      "outputs": []
    },
    {
      "cell_type": "code",
      "source": [
        "image_features.head()"
      ],
      "metadata": {
        "colab": {
          "base_uri": "https://localhost:8080/",
          "height": 233
        },
        "id": "__1z9Yp1cf3x",
        "outputId": "52d5601e-9e51-4014-96cf-4e9a858537c2"
      },
      "execution_count": 26,
      "outputs": [
        {
          "output_type": "execute_result",
          "data": {
            "text/plain": [
              "   Pixel_Value  Gabor1  Gabor2  Gabor3  Gabor4  Gabor5  Gabor6  Gabor7  \\\n",
              "0     0.003922       0       0       1       0       0       0       0   \n",
              "1     0.094118       0       0       1       0       0       0       0   \n",
              "2     0.070588       0       0       1       0       0       0       0   \n",
              "3     0.054902       0       0       1       0       0       0       0   \n",
              "4     0.168627       0       0       1       1       1       0       0   \n",
              "\n",
              "   Gabor8  Gabor9  ...  Gabor25  Gabor26  Gabor27  Gabor28  Gabor29  Gabor30  \\\n",
              "0       0       0  ...        0        0        1        0        0        0   \n",
              "1       0       0  ...        0        0        2        1        0        0   \n",
              "2       0       0  ...        0        0        2        1        0        0   \n",
              "3       0       0  ...        0        0        1        1        0        0   \n",
              "4       0       0  ...        0        0        2        2        0        0   \n",
              "\n",
              "   Gabor31  Gabor32     Sobel    Scharr  \n",
              "0        0        0  0.067926  0.066553  \n",
              "1        0        0  0.059335  0.059198  \n",
              "2        0        0  0.048078  0.047097  \n",
              "3        0        0  0.077919  0.079325  \n",
              "4        0        0  0.066045  0.067028  \n",
              "\n",
              "[5 rows x 35 columns]"
            ],
            "text/html": [
              "\n",
              "  <div id=\"df-a269164a-296a-4fe0-b172-c3e01ab16592\">\n",
              "    <div class=\"colab-df-container\">\n",
              "      <div>\n",
              "<style scoped>\n",
              "    .dataframe tbody tr th:only-of-type {\n",
              "        vertical-align: middle;\n",
              "    }\n",
              "\n",
              "    .dataframe tbody tr th {\n",
              "        vertical-align: top;\n",
              "    }\n",
              "\n",
              "    .dataframe thead th {\n",
              "        text-align: right;\n",
              "    }\n",
              "</style>\n",
              "<table border=\"1\" class=\"dataframe\">\n",
              "  <thead>\n",
              "    <tr style=\"text-align: right;\">\n",
              "      <th></th>\n",
              "      <th>Pixel_Value</th>\n",
              "      <th>Gabor1</th>\n",
              "      <th>Gabor2</th>\n",
              "      <th>Gabor3</th>\n",
              "      <th>Gabor4</th>\n",
              "      <th>Gabor5</th>\n",
              "      <th>Gabor6</th>\n",
              "      <th>Gabor7</th>\n",
              "      <th>Gabor8</th>\n",
              "      <th>Gabor9</th>\n",
              "      <th>...</th>\n",
              "      <th>Gabor25</th>\n",
              "      <th>Gabor26</th>\n",
              "      <th>Gabor27</th>\n",
              "      <th>Gabor28</th>\n",
              "      <th>Gabor29</th>\n",
              "      <th>Gabor30</th>\n",
              "      <th>Gabor31</th>\n",
              "      <th>Gabor32</th>\n",
              "      <th>Sobel</th>\n",
              "      <th>Scharr</th>\n",
              "    </tr>\n",
              "  </thead>\n",
              "  <tbody>\n",
              "    <tr>\n",
              "      <th>0</th>\n",
              "      <td>0.003922</td>\n",
              "      <td>0</td>\n",
              "      <td>0</td>\n",
              "      <td>1</td>\n",
              "      <td>0</td>\n",
              "      <td>0</td>\n",
              "      <td>0</td>\n",
              "      <td>0</td>\n",
              "      <td>0</td>\n",
              "      <td>0</td>\n",
              "      <td>...</td>\n",
              "      <td>0</td>\n",
              "      <td>0</td>\n",
              "      <td>1</td>\n",
              "      <td>0</td>\n",
              "      <td>0</td>\n",
              "      <td>0</td>\n",
              "      <td>0</td>\n",
              "      <td>0</td>\n",
              "      <td>0.067926</td>\n",
              "      <td>0.066553</td>\n",
              "    </tr>\n",
              "    <tr>\n",
              "      <th>1</th>\n",
              "      <td>0.094118</td>\n",
              "      <td>0</td>\n",
              "      <td>0</td>\n",
              "      <td>1</td>\n",
              "      <td>0</td>\n",
              "      <td>0</td>\n",
              "      <td>0</td>\n",
              "      <td>0</td>\n",
              "      <td>0</td>\n",
              "      <td>0</td>\n",
              "      <td>...</td>\n",
              "      <td>0</td>\n",
              "      <td>0</td>\n",
              "      <td>2</td>\n",
              "      <td>1</td>\n",
              "      <td>0</td>\n",
              "      <td>0</td>\n",
              "      <td>0</td>\n",
              "      <td>0</td>\n",
              "      <td>0.059335</td>\n",
              "      <td>0.059198</td>\n",
              "    </tr>\n",
              "    <tr>\n",
              "      <th>2</th>\n",
              "      <td>0.070588</td>\n",
              "      <td>0</td>\n",
              "      <td>0</td>\n",
              "      <td>1</td>\n",
              "      <td>0</td>\n",
              "      <td>0</td>\n",
              "      <td>0</td>\n",
              "      <td>0</td>\n",
              "      <td>0</td>\n",
              "      <td>0</td>\n",
              "      <td>...</td>\n",
              "      <td>0</td>\n",
              "      <td>0</td>\n",
              "      <td>2</td>\n",
              "      <td>1</td>\n",
              "      <td>0</td>\n",
              "      <td>0</td>\n",
              "      <td>0</td>\n",
              "      <td>0</td>\n",
              "      <td>0.048078</td>\n",
              "      <td>0.047097</td>\n",
              "    </tr>\n",
              "    <tr>\n",
              "      <th>3</th>\n",
              "      <td>0.054902</td>\n",
              "      <td>0</td>\n",
              "      <td>0</td>\n",
              "      <td>1</td>\n",
              "      <td>0</td>\n",
              "      <td>0</td>\n",
              "      <td>0</td>\n",
              "      <td>0</td>\n",
              "      <td>0</td>\n",
              "      <td>0</td>\n",
              "      <td>...</td>\n",
              "      <td>0</td>\n",
              "      <td>0</td>\n",
              "      <td>1</td>\n",
              "      <td>1</td>\n",
              "      <td>0</td>\n",
              "      <td>0</td>\n",
              "      <td>0</td>\n",
              "      <td>0</td>\n",
              "      <td>0.077919</td>\n",
              "      <td>0.079325</td>\n",
              "    </tr>\n",
              "    <tr>\n",
              "      <th>4</th>\n",
              "      <td>0.168627</td>\n",
              "      <td>0</td>\n",
              "      <td>0</td>\n",
              "      <td>1</td>\n",
              "      <td>1</td>\n",
              "      <td>1</td>\n",
              "      <td>0</td>\n",
              "      <td>0</td>\n",
              "      <td>0</td>\n",
              "      <td>0</td>\n",
              "      <td>...</td>\n",
              "      <td>0</td>\n",
              "      <td>0</td>\n",
              "      <td>2</td>\n",
              "      <td>2</td>\n",
              "      <td>0</td>\n",
              "      <td>0</td>\n",
              "      <td>0</td>\n",
              "      <td>0</td>\n",
              "      <td>0.066045</td>\n",
              "      <td>0.067028</td>\n",
              "    </tr>\n",
              "  </tbody>\n",
              "</table>\n",
              "<p>5 rows × 35 columns</p>\n",
              "</div>\n",
              "      <button class=\"colab-df-convert\" onclick=\"convertToInteractive('df-a269164a-296a-4fe0-b172-c3e01ab16592')\"\n",
              "              title=\"Convert this dataframe to an interactive table.\"\n",
              "              style=\"display:none;\">\n",
              "        \n",
              "  <svg xmlns=\"http://www.w3.org/2000/svg\" height=\"24px\"viewBox=\"0 0 24 24\"\n",
              "       width=\"24px\">\n",
              "    <path d=\"M0 0h24v24H0V0z\" fill=\"none\"/>\n",
              "    <path d=\"M18.56 5.44l.94 2.06.94-2.06 2.06-.94-2.06-.94-.94-2.06-.94 2.06-2.06.94zm-11 1L8.5 8.5l.94-2.06 2.06-.94-2.06-.94L8.5 2.5l-.94 2.06-2.06.94zm10 10l.94 2.06.94-2.06 2.06-.94-2.06-.94-.94-2.06-.94 2.06-2.06.94z\"/><path d=\"M17.41 7.96l-1.37-1.37c-.4-.4-.92-.59-1.43-.59-.52 0-1.04.2-1.43.59L10.3 9.45l-7.72 7.72c-.78.78-.78 2.05 0 2.83L4 21.41c.39.39.9.59 1.41.59.51 0 1.02-.2 1.41-.59l7.78-7.78 2.81-2.81c.8-.78.8-2.07 0-2.86zM5.41 20L4 18.59l7.72-7.72 1.47 1.35L5.41 20z\"/>\n",
              "  </svg>\n",
              "      </button>\n",
              "      \n",
              "  <style>\n",
              "    .colab-df-container {\n",
              "      display:flex;\n",
              "      flex-wrap:wrap;\n",
              "      gap: 12px;\n",
              "    }\n",
              "\n",
              "    .colab-df-convert {\n",
              "      background-color: #E8F0FE;\n",
              "      border: none;\n",
              "      border-radius: 50%;\n",
              "      cursor: pointer;\n",
              "      display: none;\n",
              "      fill: #1967D2;\n",
              "      height: 32px;\n",
              "      padding: 0 0 0 0;\n",
              "      width: 32px;\n",
              "    }\n",
              "\n",
              "    .colab-df-convert:hover {\n",
              "      background-color: #E2EBFA;\n",
              "      box-shadow: 0px 1px 2px rgba(60, 64, 67, 0.3), 0px 1px 3px 1px rgba(60, 64, 67, 0.15);\n",
              "      fill: #174EA6;\n",
              "    }\n",
              "\n",
              "    [theme=dark] .colab-df-convert {\n",
              "      background-color: #3B4455;\n",
              "      fill: #D2E3FC;\n",
              "    }\n",
              "\n",
              "    [theme=dark] .colab-df-convert:hover {\n",
              "      background-color: #434B5C;\n",
              "      box-shadow: 0px 1px 3px 1px rgba(0, 0, 0, 0.15);\n",
              "      filter: drop-shadow(0px 1px 2px rgba(0, 0, 0, 0.3));\n",
              "      fill: #FFFFFF;\n",
              "    }\n",
              "  </style>\n",
              "\n",
              "      <script>\n",
              "        const buttonEl =\n",
              "          document.querySelector('#df-a269164a-296a-4fe0-b172-c3e01ab16592 button.colab-df-convert');\n",
              "        buttonEl.style.display =\n",
              "          google.colab.kernel.accessAllowed ? 'block' : 'none';\n",
              "\n",
              "        async function convertToInteractive(key) {\n",
              "          const element = document.querySelector('#df-a269164a-296a-4fe0-b172-c3e01ab16592');\n",
              "          const dataTable =\n",
              "            await google.colab.kernel.invokeFunction('convertToInteractive',\n",
              "                                                     [key], {});\n",
              "          if (!dataTable) return;\n",
              "\n",
              "          const docLinkHtml = 'Like what you see? Visit the ' +\n",
              "            '<a target=\"_blank\" href=https://colab.research.google.com/notebooks/data_table.ipynb>data table notebook</a>'\n",
              "            + ' to learn more about interactive tables.';\n",
              "          element.innerHTML = '';\n",
              "          dataTable['output_type'] = 'display_data';\n",
              "          await google.colab.output.renderOutput(dataTable, element);\n",
              "          const docLink = document.createElement('div');\n",
              "          docLink.innerHTML = docLinkHtml;\n",
              "          element.appendChild(docLink);\n",
              "        }\n",
              "      </script>\n",
              "    </div>\n",
              "  </div>\n",
              "  "
            ]
          },
          "metadata": {},
          "execution_count": 26
        }
      ]
    },
    {
      "cell_type": "code",
      "source": [
        "image_features.columns"
      ],
      "metadata": {
        "colab": {
          "base_uri": "https://localhost:8080/"
        },
        "id": "za5Vm2VZl_ru",
        "outputId": "670f03d2-0f06-4728-ae01-1732bd2a9699"
      },
      "execution_count": 27,
      "outputs": [
        {
          "output_type": "execute_result",
          "data": {
            "text/plain": [
              "Index(['Pixel_Value', 'Gabor1', 'Gabor2', 'Gabor3', 'Gabor4', 'Gabor5',\n",
              "       'Gabor6', 'Gabor7', 'Gabor8', 'Gabor9', 'Gabor10', 'Gabor11', 'Gabor12',\n",
              "       'Gabor13', 'Gabor14', 'Gabor15', 'Gabor16', 'Gabor17', 'Gabor18',\n",
              "       'Gabor19', 'Gabor20', 'Gabor21', 'Gabor22', 'Gabor23', 'Gabor24',\n",
              "       'Gabor25', 'Gabor26', 'Gabor27', 'Gabor28', 'Gabor29', 'Gabor30',\n",
              "       'Gabor31', 'Gabor32', 'Sobel', 'Scharr'],\n",
              "      dtype='object')"
            ]
          },
          "metadata": {},
          "execution_count": 27
        }
      ]
    },
    {
      "cell_type": "markdown",
      "source": [
        "The image_features dataframe consists of 1,376,256 rows/pixel values and 5 columns."
      ],
      "metadata": {
        "id": "WkuJIEagamMP"
      }
    },
    {
      "cell_type": "code",
      "source": [
        "image_features.shape"
      ],
      "metadata": {
        "colab": {
          "base_uri": "https://localhost:8080/"
        },
        "id": "SHm5qhbpahKC",
        "outputId": "f2dd6611-2214-44be-e0d6-dbc5aa5ac709"
      },
      "execution_count": 28,
      "outputs": [
        {
          "output_type": "execute_result",
          "data": {
            "text/plain": [
              "(2359296, 35)"
            ]
          },
          "metadata": {},
          "execution_count": 28
        }
      ]
    },
    {
      "cell_type": "code",
      "source": [
        "n_features = image_features.shape[1]\n",
        "image_features = np.expand_dims(image_features, axis=0)\n",
        "X_for_RF = np.reshape(image_features, (X_train.shape[0],-1))"
      ],
      "metadata": {
        "id": "WrJnZoRyTK9a"
      },
      "execution_count": 29,
      "outputs": []
    },
    {
      "cell_type": "code",
      "source": [
        "from sklearn.ensemble import RandomForestClassifier"
      ],
      "metadata": {
        "id": "1jaTcckMTNI9"
      },
      "execution_count": 30,
      "outputs": []
    },
    {
      "cell_type": "markdown",
      "source": [
        "## Models\n",
        "### Random Forest Classifier"
      ],
      "metadata": {
        "id": "domXMNlHUac_"
      }
    },
    {
      "cell_type": "code",
      "source": [
        "rf_model = RandomForestClassifier(n_estimators=300, random_state=42)\n",
        "rf_model.fit(X_for_RF, y_train)"
      ],
      "metadata": {
        "id": "FtiVHn71UntD",
        "colab": {
          "base_uri": "https://localhost:8080/"
        },
        "outputId": "57fc1244-d1a1-4b3c-a13a-10ecf11a93e8"
      },
      "execution_count": 31,
      "outputs": [
        {
          "output_type": "execute_result",
          "data": {
            "text/plain": [
              "RandomForestClassifier(n_estimators=300, random_state=42)"
            ]
          },
          "metadata": {},
          "execution_count": 31
        }
      ]
    },
    {
      "cell_type": "code",
      "source": [
        "#train prediction\n",
        "train_features = feature_extractor(X_train)\n",
        "train_features = np.expand_dims(train_features, axis=0)\n",
        "train_for_RF = np.reshape(train_features, (X_train.shape[0],-1))"
      ],
      "metadata": {
        "id": "PIIKN3qUFeiI"
      },
      "execution_count": 32,
      "outputs": []
    },
    {
      "cell_type": "code",
      "source": [
        "#mine prediction\n",
        "train_prediction = rf_model.predict(train_for_RF)\n",
        "train_prediction = le.inverse_transform(train_prediction)"
      ],
      "metadata": {
        "id": "YzpFM6XJFtJ5"
      },
      "execution_count": 33,
      "outputs": []
    },
    {
      "cell_type": "code",
      "source": [
        "test_features = feature_extractor(X_test)\n",
        "test_features = np.expand_dims(test_features, axis=0)\n",
        "test_for_RF = np.reshape(test_features, (X_test.shape[0],-1))"
      ],
      "metadata": {
        "id": "IGpS_W3AWgHt"
      },
      "execution_count": 34,
      "outputs": []
    },
    {
      "cell_type": "code",
      "source": [
        "test_prediction = rf_model.predict(test_for_RF)\n",
        "test_prediction = le.inverse_transform(test_prediction)"
      ],
      "metadata": {
        "id": "t350RZjDXV8Y"
      },
      "execution_count": 35,
      "outputs": []
    },
    {
      "cell_type": "markdown",
      "source": [
        "#### Support Vector Machine "
      ],
      "metadata": {
        "id": "_H1YAquL15Dk"
      }
    },
    {
      "cell_type": "code",
      "source": [
        "#from sklearn import svm\n",
        "from sklearn.svm import LinearSVC"
      ],
      "metadata": {
        "id": "sJMzkSOU14vQ"
      },
      "execution_count": 36,
      "outputs": []
    },
    {
      "cell_type": "code",
      "source": [
        "n_features = image_features.shape[1]\n",
        "image_features = np.expand_dims(image_features, axis=0)\n",
        "X_for_svm = np.reshape(image_features, (X_train.shape[0],-1))"
      ],
      "metadata": {
        "id": "-z8Vl7eM_wV0"
      },
      "execution_count": 37,
      "outputs": []
    },
    {
      "cell_type": "code",
      "source": [
        "\n",
        "\n",
        "model_svm = LinearSVC(max_iter=400)\n",
        "model_svm.fit(X_for_svm, y_train)\n",
        "\n",
        "# svm_model = svm.SVC(decision_function_shape='ovo')\n",
        "# svm_model.fit(X_for_svm, y_train)\n",
        "#prediction_svm = model_svm.predict(X_test)\n",
        "# print(\"Train Accuracy: \", metrics.accuracy_score(y_train, y_train_pred)) \n",
        "# #make a prediction\n",
        "\n",
        "#how good was model at making prediction? Accuracy of prediction \n",
        "#print('Test Accuracy: ',metrics.accuracy_score(y_test, prediction_svm))"
      ],
      "metadata": {
        "colab": {
          "base_uri": "https://localhost:8080/"
        },
        "id": "TjgdtMOR2FJQ",
        "outputId": "19e7afa1-9988-4ed2-cdf2-7898f3ab884f"
      },
      "execution_count": 38,
      "outputs": [
        {
          "output_type": "execute_result",
          "data": {
            "text/plain": [
              "LinearSVC(max_iter=400)"
            ]
          },
          "metadata": {},
          "execution_count": 38
        }
      ]
    },
    {
      "cell_type": "code",
      "source": [
        "test_features_svm = feature_extractor(X_test)\n",
        "test_features_svm = np.expand_dims(test_features_svm, axis=0)\n",
        "test_for_svm = np.reshape(test_features_svm, (X_test.shape[0],-1))"
      ],
      "metadata": {
        "id": "3uoIBe8R2fKm"
      },
      "execution_count": 39,
      "outputs": []
    },
    {
      "cell_type": "code",
      "source": [
        "test_prediction_svm = model_svm.predict(test_for_svm)\n",
        "test_prediction_svm = le.inverse_transform(test_prediction_svm)"
      ],
      "metadata": {
        "id": "YzDw3PCv2fAn"
      },
      "execution_count": 40,
      "outputs": []
    },
    {
      "cell_type": "markdown",
      "source": [
        "### Metrics"
      ],
      "metadata": {
        "id": "lQXYTFmC866q"
      }
    },
    {
      "cell_type": "code",
      "source": [
        "from sklearn import metrics"
      ],
      "metadata": {
        "id": "pHh4JvB1Xsm9"
      },
      "execution_count": 41,
      "outputs": []
    },
    {
      "cell_type": "code",
      "source": [
        "acc = metrics.accuracy_score(train_labels, train_prediction)\n",
        "test_acc = metrics.accuracy_score(test_labels, test_prediction)\n",
        "print('Accuracy for rf_model')\n",
        "print('Train Accuracy: {:.3f}'.format(acc))\n",
        "print('RFC Test Accuracy: {:.3f}'.format(test_acc))"
      ],
      "metadata": {
        "id": "CQqwzlZuXwr_",
        "colab": {
          "base_uri": "https://localhost:8080/"
        },
        "outputId": "038526cc-9852-49b3-964a-46bd68bf4a1e"
      },
      "execution_count": 42,
      "outputs": [
        {
          "output_type": "stream",
          "name": "stdout",
          "text": [
            "Accuracy for rf_model\n",
            "Train Accuracy: 1.000\n",
            "RFC Test Accuracy: 0.950\n"
          ]
        }
      ]
    },
    {
      "cell_type": "code",
      "source": [
        "test_acc_svm = metrics.accuracy_score(test_labels, test_prediction_svm)\n",
        "print('Accuracy for svm_model')\n",
        "#print('Train Accuracy: {:.3f}'.format(acc))\n",
        "print('SVM Test Accuracy: {:.3f}'.format(test_acc_svm))"
      ],
      "metadata": {
        "colab": {
          "base_uri": "https://localhost:8080/"
        },
        "id": "uS-kst6P28RV",
        "outputId": "9d2d678b-11c0-4309-86d2-adb972aa3ee8"
      },
      "execution_count": 43,
      "outputs": [
        {
          "output_type": "stream",
          "name": "stdout",
          "text": [
            "Accuracy for svm_model\n",
            "SVM Test Accuracy: 0.900\n"
          ]
        }
      ]
    },
    {
      "cell_type": "code",
      "source": [
        "names = ['Pixel_Value', 'Gabor1', 'Gabor2', 'Gabor3', 'Gabor4', 'Gabor5',\n",
        "       'Gabor6', 'Gabor7', 'Gabor8', 'Gabor9', 'Gabor10', 'Gabor11', 'Gabor12',\n",
        "       'Gabor13', 'Gabor14', 'Gabor15', 'Gabor16', 'Gabor17', 'Gabor18',\n",
        "       'Gabor19', 'Gabor20', 'Gabor21', 'Gabor22', 'Gabor23', 'Gabor24',\n",
        "       'Gabor25', 'Gabor26', 'Gabor27', 'Gabor28', 'Gabor29', 'Gabor30',\n",
        "       'Gabor31', 'Gabor32', 'Sobel', 'Scharr']"
      ],
      "metadata": {
        "id": "RiqX6i1asO3X"
      },
      "execution_count": 44,
      "outputs": []
    },
    {
      "cell_type": "code",
      "source": [
        "# importances = list(rf_model.feature_importances_)\n",
        "# #features_list = list(image_features.columns)\n",
        "# feature_imp = pd.Series(rf_model.feature_importances_, index= names).sort_values(ascending=False) #features_list"
      ],
      "metadata": {
        "id": "GlIEtcTGlwu9"
      },
      "execution_count": 45,
      "outputs": []
    },
    {
      "cell_type": "code",
      "source": [
        "#feature_imp.plot(kind='barh', figsize=(8,6));"
      ],
      "metadata": {
        "id": "3Nlh8QQMlwgc"
      },
      "execution_count": 46,
      "outputs": []
    },
    {
      "cell_type": "markdown",
      "source": [
        "#### Confusion Matrix\n",
        "\n"
      ],
      "metadata": {
        "id": "QXMsElUpHKuc"
      }
    },
    {
      "cell_type": "code",
      "source": [
        "from sklearn.metrics import confusion_matrix\n",
        "from sklearn.metrics import ConfusionMatrixDisplay\n"
      ],
      "metadata": {
        "id": "x6TjIsnQ7qk1"
      },
      "execution_count": 47,
      "outputs": []
    },
    {
      "cell_type": "code",
      "source": [
        "cm = confusion_matrix(test_labels, test_prediction)\n",
        "cmd = ConfusionMatrixDisplay(cm, display_labels=['car','airplane', 'cat'])\n",
        "cmd.plot()"
      ],
      "metadata": {
        "id": "4JTcWmIx7zRH",
        "colab": {
          "base_uri": "https://localhost:8080/",
          "height": 300
        },
        "outputId": "15a84798-9f1e-424e-87dd-43365f4b457b"
      },
      "execution_count": 48,
      "outputs": [
        {
          "output_type": "execute_result",
          "data": {
            "text/plain": [
              "<sklearn.metrics._plot.confusion_matrix.ConfusionMatrixDisplay at 0x7f077280bc10>"
            ]
          },
          "metadata": {},
          "execution_count": 48
        },
        {
          "output_type": "display_data",
          "data": {
            "text/plain": [
              "<Figure size 432x288 with 2 Axes>"
            ],
            "image/png": "[encoded data removed]"
          },
          "metadata": {
            "needs_background": "light"
          }
        }
      ]
    },
    {
      "cell_type": "code",
      "source": [
        "fig,ax = plt.subplots(figsize=(6,6))\n",
        "sns.set(font_scale=1.6)\n",
        "sns.heatmap(cm, annot=True, ax=ax)"
      ],
      "metadata": {
        "id": "Qlhwuco57-Wo",
        "colab": {
          "base_uri": "https://localhost:8080/",
          "height": 398
        },
        "outputId": "9845a668-cf90-4756-8a2f-40a32a71622c"
      },
      "execution_count": 49,
      "outputs": [
        {
          "output_type": "execute_result",
          "data": {
            "text/plain": [
              "<matplotlib.axes._subplots.AxesSubplot at 0x7f077290d310>"
            ]
          },
          "metadata": {},
          "execution_count": 49
        },
        {
          "output_type": "display_data",
          "data": {
            "text/plain": [
              "<Figure size 432x432 with 2 Axes>"
            ],
            "image/png": "[encoded data removed]"
          },
          "metadata": {
            "needs_background": "light"
          }
        }
      ]
    },
    {
      "cell_type": "markdown",
      "source": [
        "#### Classification Report for RFC"
      ],
      "metadata": {
        "id": "xFp92rIOiFQZ"
      }
    },
    {
      "cell_type": "code",
      "source": [
        "from sklearn.metrics import confusion_matrix, classification_report\n",
        "print(classification_report(test_labels, test_prediction))"
      ],
      "metadata": {
        "id": "vNrc7Mk5iEoG",
        "colab": {
          "base_uri": "https://localhost:8080/"
        },
        "outputId": "5d187312-d7c0-4443-aed3-2cb61be65240"
      },
      "execution_count": 50,
      "outputs": [
        {
          "output_type": "stream",
          "name": "stdout",
          "text": [
            "              precision    recall  f1-score   support\n",
            "\n",
            "    airplane       1.00      1.00      1.00         7\n",
            "         car       0.88      1.00      0.93         7\n",
            "        cats       1.00      0.83      0.91         6\n",
            "\n",
            "    accuracy                           0.95        20\n",
            "   macro avg       0.96      0.94      0.95        20\n",
            "weighted avg       0.96      0.95      0.95        20\n",
            "\n"
          ]
        }
      ]
    },
    {
      "cell_type": "markdown",
      "source": [
        "### Check Results with Random Images\n",
        "Check the results on test images to see where it was correct and where it failed.<br>\n",
        "Want to generate a random number between 0 and the number of images in train set.  Then show the image."
      ],
      "metadata": {
        "id": "9J-BLhBEcEk1"
      }
    },
    {
      "cell_type": "code",
      "source": [
        "import random"
      ],
      "metadata": {
        "id": "BGh_4mM-8HyG"
      },
      "execution_count": 51,
      "outputs": []
    },
    {
      "cell_type": "code",
      "source": [
        "n = random.randint(0, X_test.shape[0]-1)\n",
        "img = X_test[n]\n",
        "plt.imshow(img)"
      ],
      "metadata": {
        "id": "Tur9h5SQcm8X",
        "colab": {
          "base_uri": "https://localhost:8080/",
          "height": 299
        },
        "outputId": "8135772f-75e6-4b16-e62c-b4b7cf0e660a"
      },
      "execution_count": 52,
      "outputs": [
        {
          "output_type": "execute_result",
          "data": {
            "text/plain": [
              "<matplotlib.image.AxesImage at 0x7f07728affd0>"
            ]
          },
          "metadata": {},
          "execution_count": 52
        },
        {
          "output_type": "display_data",
          "data": {
            "text/plain": [
              "<Figure size 432x288 with 1 Axes>"
            ],
            "image/png": "[encoded data removed]"
          },
          "metadata": {}
        }
      ]
    },
    {
      "cell_type": "code",
      "source": [
        "input_img = np.expand_dims(img, axis=0)\n",
        "input_img_features = feature_extractor(input_img)\n",
        "input_img_features = np.expand_dims(input_img_features, axis=0)\n",
        "input_img_for_RF = np.reshape(input_img_features, (input_img.shape[0],-1)) \n",
        "#predict\n",
        "img_prediction = rf_model.predict(input_img_for_RF)\n",
        "img_prediction = le.inverse_transform(img_prediction)\n",
        "print('The prediction for this image is: ',img_prediction)\n",
        "print('Actual Label for this image is: ', test_labels[n])"
      ],
      "metadata": {
        "id": "gK46xrV2c82x",
        "colab": {
          "base_uri": "https://localhost:8080/"
        },
        "outputId": "42965152-9687-4071-e45b-0fb6f50c32af"
      },
      "execution_count": 53,
      "outputs": [
        {
          "output_type": "stream",
          "name": "stdout",
          "text": [
            "The prediction for this image is:  ['airplane']\n",
            "Actual Label for this image is:  airplane\n"
          ]
        }
      ]
    },
    {
      "cell_type": "markdown",
      "source": [
        "### Findings\n",
        "I originally only used 15 images.  I created a Random Forest Classifier and on the test set got an accuracy score of 75%.  I increased the dataset to 28 images.  With the Random Forest Classifier the accuracy increased to 91%.  I also created an SVM model and I got the same accuracy score of 91% "
      ],
      "metadata": {
        "id": "PTRNytOkEbhd"
      }
    },
    {
      "cell_type": "code",
      "source": [
        ""
      ],
      "metadata": {
        "id": "e0GTOGgwGZNe"
      },
      "execution_count": 53,
      "outputs": []
    }
  ]
}